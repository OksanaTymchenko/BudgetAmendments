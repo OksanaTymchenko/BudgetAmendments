{
  "nbformat": 4,
  "nbformat_minor": 0,
  "metadata": {
    "colab": {
      "name": "BudgetAmendments.ipynb",
      "provenance": [],
      "collapsed_sections": [],
      "include_colab_link": true
    },
    "kernelspec": {
      "name": "python3",
      "display_name": "Python 3"
    }
  },
  "cells": [
    {
      "cell_type": "markdown",
      "metadata": {
        "id": "view-in-github",
        "colab_type": "text"
      },
      "source": [
        "<a href=\"https://colab.research.google.com/github/OksanaTymchenko/BudgetCheck/blob/master/BudgetAmendments.ipynb\" target=\"_parent\"><img src=\"https://colab.research.google.com/assets/colab-badge.svg\" alt=\"Open In Colab\"/></a>"
      ]
    },
    {
      "cell_type": "code",
      "metadata": {
        "id": "6KM99EtBetxn",
        "colab_type": "code",
        "colab": {}
      },
      "source": [
        "# !pip install -q docx2python\n",
        "import numpy as np\n",
        "import pandas as pd\n",
        "import re\n",
        "# from docx2python import docx2python\n",
        "from functools import reduce\n",
        "import openpyxl "
      ],
      "execution_count": 0,
      "outputs": []
    },
    {
      "cell_type": "code",
      "metadata": {
        "id": "IoA1z-brko_k",
        "colab_type": "code",
        "colab": {}
      },
      "source": [
        "from google.colab import drive\n",
        "drive.mount('/content/drive')"
      ],
      "execution_count": 0,
      "outputs": []
    },
    {
      "cell_type": "code",
      "metadata": {
        "id": "t0GPq9THfElV",
        "colab_type": "code",
        "colab": {}
      },
      "source": [
        "# reading from source doc file\n",
        "\n",
        "budget_doc = docx2python('/content/drive/My Drive/Colab Notebooks/budget.docx')\n",
        "budget = list(filter(lambda x: len(x) > 1, budget_doc.body))\n",
        "budget = budget[1:9]\n",
        "\n",
        "def clean_parts(raw_budget):\n",
        "    temp = pd.DataFrame(raw_budget[1:])\n",
        "    temp.drop(temp.columns[:-2], axis=1, inplace=True)\n",
        "    temp.dropna(inplace=True)\n",
        "    temp.columns = ['Правки', 'Висновки']\n",
        "    # temp.dropna(subset = ['Правки'], inplace=True)\n",
        "    temp = temp[temp.iloc[:,0].map(lambda d: len(d[0]) > 0)]\n",
        "    print(temp.head())\n",
        "    return temp\n",
        "\n",
        "budget_df = list(map(clean_parts, budget))\n",
        "budget_df = pd.concat(budget_df, ignore_index = True)\n",
        "\n",
        "def edit_split(edit):\n",
        "    if edit[0] and edit[0].startswith('-'):\n",
        "      number, first_author = edit[0].split(maxsplit = 1)\n",
        "      author_list = [first_author]\n",
        "      k = 1\n",
        "      while 'Н.д.' in edit[k]:\n",
        "        author_list.append(edit[k])\n",
        "        k += 1\n",
        "      text = '\\n'.join(edit[len(author_list):])\n",
        "      return number, author_list, text\n",
        "    else: \n",
        "      return None"
      ],
      "execution_count": 0,
      "outputs": []
    },
    {
      "cell_type": "code",
      "metadata": {
        "id": "T1DMAMWW_RhP",
        "colab_type": "code",
        "colab": {}
      },
      "source": [
        "# reading from table copied from doc\n",
        "\n",
        "edits_df = pd.read_excel('/content/drive/My Drive/budget_table.xlsx')\n",
        "\n",
        "def split_edit(edit):\n",
        "  if edit.startswith('-'):\n",
        "    number, rest = edit.split(maxsplit = 1)\n",
        "    first_author, rest = rest.split('\\n', maxsplit = 1)\n",
        "    author_list = [first_author]\n",
        "    while 'Н.д.' in rest:\n",
        "      deputy, rest = rest.split('\\n', maxsplit = 1)\n",
        "      author_list.append(deputy)\n",
        "    return number, author_list, rest\n",
        "  else: \n",
        "    return None"
      ],
      "execution_count": 0,
      "outputs": []
    },
    {
      "cell_type": "code",
      "metadata": {
        "id": "gycYi49fjBSa",
        "colab_type": "code",
        "colab": {}
      },
      "source": [
        "def get_edit_number(number):\n",
        "  return re.search('\\d+', number).group()"
      ],
      "execution_count": 0,
      "outputs": []
    },
    {
      "cell_type": "code",
      "metadata": {
        "id": "X2hYvCWz2NQa",
        "colab_type": "code",
        "colab": {}
      },
      "source": [
        "# a, b, c = edit_split(budget_df.loc[439]['Правки'])\n",
        "def get_deputies(dep_list):\n",
        "  try:\n",
        "    deputies = []\n",
        "    grp = False\n",
        "    if re.match('\\s*(Комітет|Фракція)', dep_list[0]):\n",
        "      grp = True\n",
        "      deputies.append({'deputy':dep_list[0], 'card':None})\n",
        "      dep_list = dep_list[1:]\n",
        "    for dep in dep_list:\n",
        "      res = re.search(r\"Н.д.([^(]+).*№(\\d+)\", dep)\n",
        "      if res:\n",
        "       deputies.append({'deputy':res.group(1).strip(), 'card':res.group(2)})\n",
        "      else:\n",
        "        res = re.search(r\".([^(]+).*№(\\d+)\", dep)\n",
        "        deputies.append({'deputy':res.group(1).strip(), 'card':res.group(2)})\n",
        "    if len(deputies) > 1:\n",
        "      grp = True\n",
        "    return deputies, grp\n",
        "  except:\n",
        "    print('depError', dep_list)\n"
      ],
      "execution_count": 0,
      "outputs": []
    },
    {
      "cell_type": "code",
      "metadata": {
        "id": "Pu2N5Hq057FJ",
        "colab_type": "code",
        "colab": {}
      },
      "source": [
        "def get_action(edit):\n",
        "  # try:\n",
        "    keywords = ['(збільшити|передбачити)(.*?)(видатк(и|ах)|субвенці(ю|ї)|дотаці(ю|ї))',\n",
        "                # '((збільши(ти|вши))|передбачити|встановити).*(видатк(и|ів)|субвенці(ю|ї)|дотаці(ю|ї)|обсяг|кошт(и|ів))',\n",
        "                # -зменшивши!!!\n",
        "                # '(встановити) .*збільшивши',\n",
        "                '(включити|відновити|передбачити)(.*?)бюджетну програму',\n",
        "                '(встановити)(.*?)(видатки|субвенці(ю|ї))',\n",
        "                '(збільшити)(.*?)обсяг (асигнувань|видатків)',\n",
        "                '(встановити|(від|по)новити)(.*?)субвенці(ю|ї)',\n",
        "                '(доповнити)(.*?)програм(ою|ами)',\n",
        "                '(збільшити|відновити) фінансування', '(включити) (((в|у) роз)|до)', \n",
        "                '(Передбачити) нову програму',\n",
        "                '(передбачити|виділити)(.*?)[^«\"]кошти',\n",
        "                '(надати) додатково',\n",
        "                '(визначити) видатки',\n",
        "                '^(?:видатки|субвенцію)(?:.*?)(збільшити)',\n",
        "                '^(визначити) обсяг',\n",
        "                'видатки (встановити)',\n",
        "                '(передбачити) збільшення(.*?)видатків',\n",
        "                # '(встановити) .*тобто збільшити', \n",
        "                '(збільшення) видаткової частини', \n",
        "                # '(?:видатк(?:и|ів)|субвенці(?:ю|ї)|дотаці(?:ю|ї)).*(збільшити|передбачити|визначити|встановити)', \n",
        "                # '^встановити видатки'\n",
        "                '(передбачити) \\d+',\n",
        "                'субвенцію (визначити)',\n",
        "                '(передбачається) сума',\n",
        "                '(передбачити) програму',\n",
        "                '(спрямовується) за рахунок',\n",
        "                'дотацію(?:.*?)(збільшити)',\n",
        "                '(забезпечити) (встановлення обсягів видатків|додаткове фінансування)',\n",
        "                'впровадження програми(?:.*?)(збільшити)'\n",
        "                ]\n",
        "    action_list = []\n",
        "\n",
        "    for keyword in keywords:\n",
        "      sentence = '[^\\.]*'+ keyword\n",
        "      act = re.compile(sentence, re.IGNORECASE)\n",
        "      res = act.search(edit)\n",
        "      if res:\n",
        "        edit = edit[res.start():]\n",
        "        if re.search('\\d+', edit) and not re.search('(тобто)? зменши(ти|вши)', edit):\n",
        "          return res\n",
        "\n",
        "    return None\n"
      ],
      "execution_count": 0,
      "outputs": []
    },
    {
      "cell_type": "code",
      "metadata": {
        "id": "LGpR9yaNCbSb",
        "colab_type": "code",
        "colab": {}
      },
      "source": [
        "def get_sum_changing(edit):\n",
        "  money_str = '«?([\\d.,]+)»?\\s?(тис|млн|млрд|тисяч)?\\.?\\s?(грн|грив(ень|ні|ня))?'\n",
        "  changing_str = '(цифри|суму) '+ money_str + '\\s?замінити(.*?)'+ money_str\n",
        "  change = re.findall(changing_str, edit)\n",
        "  res = 0\n",
        "  for c in change:\n",
        "    from_sum = format_sum(c[1], 'тис')\n",
        "    to_sum = format_sum(c[6], 'тис')\n",
        "    if to_sum > from_sum:\n",
        "      res += to_sum - from_sum\n",
        "  return res\n",
        "      # return to_sum - from_sum\n"
      ],
      "execution_count": 0,
      "outputs": []
    },
    {
      "cell_type": "code",
      "metadata": {
        "id": "9nO66RWs_By8",
        "colab_type": "code",
        "colab": {}
      },
      "source": [
        "def format_sum(amount_str, order_str):\n",
        "  # order = money_match[1].strip(' .')\n",
        "  try:\n",
        "    amount_str = float(amount_str.replace(' ','').replace('.', '').replace(',','.'))\n",
        "    switcher = {\n",
        "        'тис': amount_str*10**3,\n",
        "        'млн': amount_str*10**6,\n",
        "        'млрд': amount_str*10**9,\n",
        "        'тисяч': amount_str*10**3,\n",
        "        'млр': amount_str*10**9\n",
        "    }\n",
        "    return switcher.get(order_str, amount_str)\n",
        "  except:\n",
        "    return 0\n"
      ],
      "execution_count": 0,
      "outputs": []
    },
    {
      "cell_type": "code",
      "metadata": {
        "id": "nEY5QaJRbBVy",
        "colab_type": "code",
        "colab": {}
      },
      "source": [
        "def get_code(edit):\n",
        "\n",
        "    code_1 ='(за кодом|КПКВК|програм(ою|у|и)|по коду|код|за кодами) (?P<code>\\d+)'\n",
        "    code_2 = '\\((?P<code1>\\d+)\\)'\n",
        "    code = re.compile(code_1+'|'+code_2, re.IGNORECASE)\n",
        "    res = code.search(edit)\n",
        "    if res:\n",
        "      if res.group('code'):\n",
        "        return res.group('code')\n",
        "      elif res.group('code1'):\n",
        "        return res.group('code1')\n",
        "   \n",
        "    return None"
      ],
      "execution_count": 0,
      "outputs": []
    },
    {
      "cell_type": "code",
      "metadata": {
        "id": "o2p08ZdEb6Gw",
        "colab_type": "code",
        "colab": {}
      },
      "source": [
        "def get_percent(edit):\n",
        "    # percent = re.search('[^\\.\\n]*[\\d\\.,]+\\s*(%|відсотк(ів|ка))[^\\.\\n]*', edit)\n",
        "    percent = re.search('([\\d\\.,]+)\\s*(%|відсотк(ів|ка)) (?P<gdp>ВВП|валового)?[^\\.\\n]*', edit)\n",
        "    # percent = re.search(' [\\d\\.\\,]+\\s*(%|відсотків|відсотка) ', edit)\n",
        "    \n",
        "    return percent\n"
      ],
      "execution_count": 0,
      "outputs": []
    },
    {
      "cell_type": "code",
      "metadata": {
        "id": "ulDfN3Mlrj9D",
        "colab_type": "code",
        "colab": {}
      },
      "source": [
        "def get_level(edit):\n",
        "  level = re.search('на рівні (.*?)[\\d.,%?]+[^\\.\\n]*', edit)\n",
        "  if level:\n",
        "    return level.group(0)\n",
        "  else:\n",
        "    return None\n",
        "  "
      ],
      "execution_count": 0,
      "outputs": []
    },
    {
      "cell_type": "code",
      "metadata": {
        "id": "jfj8JhLjHAHt",
        "colab_type": "code",
        "colab": {}
      },
      "source": [
        "def get_at_expense(edit):\n",
        "  exp = re.compile('(за рахунок|джерелом|джерелами|(шляхом.*зменшення)).*\\.', re.DOTALL | re.IGNORECASE)\n",
        "  exp = exp.search(edit)\n",
        "  compensated = False\n",
        "  if exp:\n",
        "    if re.search('зменш(ення|ити)', exp.group()):\n",
        "      compensated = True \n",
        "    return exp, compensated\n",
        "  else:\n",
        "    return None\n"
      ],
      "execution_count": 0,
      "outputs": []
    },
    {
      "cell_type": "code",
      "metadata": {
        "id": "LPwwk250WJyb",
        "colab_type": "code",
        "colab": {}
      },
      "source": [
        "def find_price(edit):\n",
        "  money_str = '(?P<amount>[\\d., ]+)(?P<order>тис|млн|млрд|тисяч)?\\.?\\s?(грн|грив(ень|ні|ня))'\n",
        "  # includes_regex = re.compile(money_str + '.*((у|в) тому числі|(у|в) т\\.\\s?ч\\.|з (них|яких)).*' + money_str, re.DOTALL)\n",
        "  # s_prep = '(на (суму)?|(в|у) обсязі|(в|у) сумі|(в|у) розмірі|до|обсягом|на рівні|не менше)'\n",
        "  increase_str = '(збільш(ити|ивши))(.*?)на (суму )?' + money_str\n",
        "  price = re.search(increase_str, edit, re.IGNORECASE)\n",
        "  if price:\n",
        "    return format_sum(price.group('amount'), price.group('order'))\n",
        "  else:\n",
        "    hrn = '(.*?)(грн|грив(ень|ні|ня))(.*?)'\n",
        "    increase_str = '(збільшити)(.*?) з ' + hrn + ' до ' + hrn\n",
        "    price = re.search(increase_str, edit, re.IGNORECASE)\n",
        "    if price:\n",
        "      # print(price.group())\n",
        "      from_str, to_str = price.group().split(' до ', maxsplit=1)\n",
        "      from_str = re.search(money_str, from_str)\n",
        "      to_str = re.search(money_str, to_str)\n",
        "      from_number = format_sum(from_str.group('amount'), from_str.group('order'))\n",
        "      to_number = format_sum(to_str.group('amount'), to_str.group('order'))\n",
        "      return to_number - from_number\n",
        "  return None"
      ],
      "execution_count": 0,
      "outputs": []
    },
    {
      "cell_type": "code",
      "metadata": {
        "id": "Yaq9TlMk9--T",
        "colab_type": "code",
        "colab": {}
      },
      "source": [
        "def get_sums(edit):\n",
        "    # money_str = '([\\d\\.,]+)\\s?([а-я]{,5})?\\.?\\s?(грн|грив(ень|ні|ня))'\n",
        "    money_str = '([\\d., ]+)(тис|млн|млрд|тисяч)?\\.?\\s?(грн|грив(ень|ні|ня))'\n",
        "    # money_str = '([\\d.,]+)\\s?(тис|млн|млрд?|тисяч)?\\.?\\s?(грн|грив(ень|ні|ня))'\n",
        "    money_sums = re.findall(money_str, edit)\n",
        "    if money_sums and len(money_sums) == 1:\n",
        "      return format_sum(money_sums[0][0], money_sums[0][1])\n",
        "    elif len(money_sums) > 1:\n",
        "      # brackets_regex = re.compile(money_str + '[^\\(]*\\([^\\)]*' + money_str + '[^\\)\\(]*\\)')\n",
        "      brackets_regex = re.compile(money_str + '[^\\(]*\\([^\\)]*' + money_str)\n",
        "      if brackets_regex.search(edit):\n",
        "        return format_sum(money_sums[0][0], money_sums[0][1])\n",
        "      else:\n",
        "        includes_regex = re.compile(money_str + \n",
        "                                    '.*((у|в) тому числі|(у|в) т\\.\\s?ч\\.|з (них|яких)|зокрема|одночасно|а саме|В межах|:).*' \n",
        "                                    + money_str, re.DOTALL)\n",
        "        if includes_regex.search(edit):\n",
        "          return format_sum(money_sums[0][0], money_sums[0][1])\n",
        "        else:\n",
        "          first = format_sum(money_sums[0][0], money_sums[0][1])\n",
        "          rest = sum([ format_sum(s[0], s[1]) for s in money_sums[1:]])\n",
        "          if first == rest:\n",
        "            return first\n",
        "          else: \n",
        "            return first + rest\n",
        "    return None\n"
      ],
      "execution_count": 0,
      "outputs": []
    },
    {
      "cell_type": "code",
      "metadata": {
        "id": "ijj9VtxV4Rhg",
        "colab_type": "code",
        "colab": {}
      },
      "source": [
        "def edit_to_dict(raw_number, deputies_list, text, action, price):\n",
        "  GDP = 4551.7 * 10**9\n",
        "  if type(action) is str:\n",
        "    start = end = 0\n",
        "  else:\n",
        "    start = action.start()\n",
        "    end = action.end()\n",
        "    action = action.group(1)\n",
        "  at_exp = get_at_expense(text[end:])\n",
        "  compensated = False\n",
        "  end_lookup = len(text)\n",
        "  if at_exp:\n",
        "    end_lookup = end + at_exp[0].start()\n",
        "    # edit_part = text[action_start:action_end + exp_start]\n",
        "    compensated = at_exp[1]\n",
        "    at_exp = at_exp[0].group()\n",
        "  edit_part = text[start:end_lookup]\n",
        "  level = get_level(edit_part)\n",
        "  if not price:\n",
        "    price = find_price(edit_part)\n",
        "  if price:\n",
        "    money = price\n",
        "  else:\n",
        "    money = get_sums(edit_part)\n",
        "\n",
        "  percent_match = get_percent(edit_part)\n",
        "  if percent_match:\n",
        "    percent = percent_match.group()\n",
        "    if percent_match.group('gdp'):\n",
        "      percent_number = float(percent_match.group(1).replace(' ','').replace(',','.'))\n",
        "      money = percent_number*GDP/100\n",
        "  else: \n",
        "    percent = percent_match\n",
        "  if money or percent or level:\n",
        "    number = get_edit_number(raw_number)\n",
        "    deputies, group = get_deputies(deputies_list)\n",
        "    code = get_code(edit_part)\n",
        "    edit_dict = {'Номер правки':number, 'Що зробити':action, 'Правка':text,\n",
        "                    'Хотєлка':money, 'Код правки':code, 'Відсоток від':percent,\n",
        "                    'Ціна правки': price,\n",
        "                    'На рівні':level, 'За рахунок':at_exp, \n",
        "                    'Статус':row['Висновки, обґрунтування'], 'Повний тескт':row['Пропозиції та поправки до проекту']}\n",
        "    \n",
        "    return edit_dict, deputies, group, compensated\n",
        "  return None\n"
      ],
      "execution_count": 0,
      "outputs": []
    },
    {
      "cell_type": "code",
      "metadata": {
        "id": "LpiTvMWa_yLo",
        "colab_type": "code",
        "colab": {}
      },
      "source": [
        "# final version\n",
        "e = pd.DataFrame(columns = ['Номер правки', 'Що зробити', 'Депутат', \n",
        "                                'Реєстраційна картка №', 'Правка', 'На рівні',\n",
        "                                'Відсоток від', 'Ціна правки', 'Сума в бюджеті',\n",
        "                                'Хотєлка', 'Код правки', 'Категорія', 'За рахунок',\n",
        "                                'Видалити/коментар', 'Статус', 'Повний тескт']) \n",
        "g = e.copy()\n",
        "c = e.copy()\n",
        "GDP = 4551.7 * 10**9\n",
        "# test = edits_df.iloc[202:204]\n",
        "for index, row in edits_df.iterrows():\n",
        "  # try:\n",
        "    edit_parts = split_edit(row['Пропозиції та поправки до проекту'])\n",
        "    if edit_parts:\n",
        "      edit_dict = res = None\n",
        "      raw_number, deputies_list, text = edit_parts\n",
        "      number = int(get_edit_number(raw_number))\n",
        "      if number > 742:\n",
        "        changing = get_sum_changing(text)\n",
        "        if changing is not 0:\n",
        "          res = edit_to_dict(raw_number, deputies_list, text, 'замінити', changing)\n",
        "        # edit_dict, deputies, group, compensated = edit_to_dict(text, 'замінити', changing)  \n",
        "      action =  get_action(text)\n",
        "      if action and not res:\n",
        "        res = edit_to_dict(raw_number, deputies_list, text, action, None)\n",
        "          # edit_dict, deputies, group, compensated = edit_to_dict(text, action, None)\n",
        "      if res:\n",
        "        edit_dict, deputies, group, compensated = res\n",
        "        for deputy in deputies:\n",
        "          edit_dict_dep = {**edit_dict, 'Депутат':deputy['deputy'], \n",
        "                           'Реєстраційна картка №':deputy['card']}\n",
        "          if compensated:\n",
        "            c = c.append(edit_dict_dep, ignore_index=True)\n",
        "          elif group:\n",
        "            g = g.append(edit_dict_dep, ignore_index=True)\n",
        "          else:\n",
        "            e = e.append(edit_dict_dep, ignore_index=True)\n",
        "         "
      ],
      "execution_count": 0,
      "outputs": []
    },
    {
      "cell_type": "code",
      "metadata": {
        "id": "PdryA6fQHMoC",
        "colab_type": "code",
        "colab": {}
      },
      "source": [
        "# test run\n",
        "edits = pd.DataFrame(columns = ['Номер правки', 'Що зробити', 'Депутат', \n",
        "                                'Реєстраційна картка №', 'Правка', 'На рівні',\n",
        "                                'Відсоток від', 'Ціна правки', 'Сума в бюджеті',\n",
        "                                'Хотєлка', 'Код правки', 'Категорія', 'За рахунок',\n",
        "                                'Видалити/коментар', 'Статус', 'Повний тескт']) \n",
        "group_edits = edits.copy()\n",
        "comp_edits = edits.copy()\n",
        "GDP = 4551.7 * 10**9\n",
        "for index, row in edits_df.iterrows():\n",
        "  # try:\n",
        "    edit_parts = split_edit(row['Пропозиції та поправки до проекту'])\n",
        "    if edit_parts:\n",
        "      raw_number, deputies_list, text = edit_parts\n",
        "      action =  get_action(text)\n",
        "      if action:\n",
        "        # whole_text = text\n",
        "        action_start = action.start()\n",
        "        action_end = action.end()\n",
        "        action = action.group(1)\n",
        "        # text = text[action.start():]\n",
        "        at_exp = get_at_expense(text[action_end:])\n",
        "        compensated = False\n",
        "        end_lookup = len(text)\n",
        "        if at_exp:\n",
        "          end_lookup = action_end + at_exp[0].start()\n",
        "          # edit_part = text[action_start:action_end + exp_start]\n",
        "          compensated = at_exp[1]\n",
        "          at_exp = at_exp[0].group()\n",
        "        edit_part = text[action_start : end_lookup]\n",
        "        level = get_level(edit_part)\n",
        "        price = find_price(edit_part)\n",
        "        if price:\n",
        "          money = price\n",
        "        else:\n",
        "          money = get_sums(edit_part)\n",
        "        percent_match = get_percent(edit_part)\n",
        "        if percent_match:\n",
        "          percent = percent_match.group()\n",
        "          if percent_match.group('gdp'):\n",
        "            percent_number = float(percent_match.group(1).replace(' ','').replace(',','.'))\n",
        "            money = percent_number*GDP/100\n",
        "        else: \n",
        "          percent = percent_match\n",
        "        if money or percent or level:\n",
        "          number = get_edit_number(raw_number)\n",
        "          deputies, group = get_deputies(deputies_list)\n",
        "          code = get_code(edit_part)\n",
        "          for deputy in deputies:\n",
        "            edit_dict = {'Номер правки':number, 'Що зробити':action, 'Правка':text,\n",
        "                    'Депутат':deputy['deputy'], 'Реєстраційна картка №':deputy['card'],\n",
        "                    'Хотєлка':money, 'Код правки':code, 'Відсоток від':percent,\n",
        "                    'Ціна правки': price,\n",
        "                    'На рівні':level, 'За рахунок':at_exp, \n",
        "                    'Статус':row['Висновки, обґрунтування'], 'Повний тескт':row['Пропозиції та поправки до проекту']}\n",
        "       \n",
        "            if compensated:\n",
        "              comp_edits = comp_edits.append(edit_dict, ignore_index=True)\n",
        "            elif group:\n",
        "              group_edits = group_edits.append(edit_dict, ignore_index=True)\n",
        "            else:\n",
        "              edits = edits.append(edit_dict, ignore_index=True)\n",
        "  # except:\n",
        "  #   print(raw_number, text)\n",
        "print(len(edits), len(group_edits), len(comp_edits))"
      ],
      "execution_count": 0,
      "outputs": []
    },
    {
      "cell_type": "code",
      "metadata": {
        "id": "ICP-kzddAeOf",
        "colab_type": "code",
        "colab": {}
      },
      "source": [
        "with pd.ExcelWriter('/content/drive/My Drive/sums.xlsx') as writer: \n",
        "  e.to_excel(writer, sheet_name='Хотєлки', index = False)\n",
        "  g.to_excel(writer, sheet_name='Групові', index = False)\n",
        "  c.to_excel(writer, sheet_name='Компенсовані', index = False)\n",
        "# edits.to_excel('/content/drive/My Drive/budget_test.xlsx', index = False)"
      ],
      "execution_count": 0,
      "outputs": []
    },
    {
      "cell_type": "code",
      "metadata": {
        "id": "qvE3On_ml2-5",
        "colab_type": "code",
        "colab": {}
      },
      "source": [
        "!pip install -q xlsxwriter"
      ],
      "execution_count": 0,
      "outputs": []
    },
    {
      "cell_type": "code",
      "metadata": {
        "id": "L4pDDhA6Odda",
        "colab_type": "code",
        "colab": {}
      },
      "source": [
        "import xlsxwriter\n",
        "workbook =xlsxwriter.Workbook('/content/drive/My Drive/sums.xlsx', {'nan_inf_to_errors': True})\n",
        "worksheet = workbook.add_worksheet()\n",
        "col_num = 0\n",
        "for key, value in p_edits[2:].items():\n",
        "    worksheet.write(0, col_num, key)\n",
        "    worksheet.write_column(1, col_num, value)\n",
        "    col_num += 1\n"
      ],
      "execution_count": 0,
      "outputs": []
    }
  ]
}