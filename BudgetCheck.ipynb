{
  "nbformat": 4,
  "nbformat_minor": 0,
  "metadata": {
    "colab": {
      "name": "BudgetCheck.ipynb",
      "provenance": [],
      "collapsed_sections": [],
      "include_colab_link": true
    },
    "kernelspec": {
      "name": "python3",
      "display_name": "Python 3"
    }
  },
  "cells": [
    {
      "cell_type": "markdown",
      "metadata": {
        "id": "view-in-github",
        "colab_type": "text"
      },
      "source": [
        "<a href=\"https://colab.research.google.com/github/OksanaTymchenko/BudgetCheck/blob/master/BudgetCheck.ipynb\" target=\"_parent\"><img src=\"https://colab.research.google.com/assets/colab-badge.svg\" alt=\"Open In Colab\"/></a>"
      ]
    },
    {
      "cell_type": "code",
      "metadata": {
        "id": "6KM99EtBetxn",
        "colab_type": "code",
        "colab": {}
      },
      "source": [
        "!pip install -q docx2python\n",
        "import numpy as np\n",
        "import pandas as pd\n",
        "import re\n",
        "from docx2python import docx2python\n",
        "from functools import reduce"
      ],
      "execution_count": 0,
      "outputs": []
    },
    {
      "cell_type": "code",
      "metadata": {
        "id": "IoA1z-brko_k",
        "colab_type": "code",
        "outputId": "adf5dc9d-9a7e-4307-9ea1-0bfe9d85d80d",
        "colab": {
          "base_uri": "https://localhost:8080/",
          "height": 122
        }
      },
      "source": [
        "from google.colab import drive\n",
        "drive.mount('/content/drive')"
      ],
      "execution_count": 0,
      "outputs": [
        {
          "output_type": "stream",
          "text": [
            "Go to this URL in a browser: https://accounts.google.com/o/oauth2/auth?client_id=947318989803-6bn6qk8qdgf4n4g3pfee6491hc0brc4i.apps.googleusercontent.com&redirect_uri=urn%3aietf%3awg%3aoauth%3a2.0%3aoob&response_type=code&scope=email%20https%3a%2f%2fwww.googleapis.com%2fauth%2fdocs.test%20https%3a%2f%2fwww.googleapis.com%2fauth%2fdrive%20https%3a%2f%2fwww.googleapis.com%2fauth%2fdrive.photos.readonly%20https%3a%2f%2fwww.googleapis.com%2fauth%2fpeopleapi.readonly\n",
            "\n",
            "Enter your authorization code:\n",
            "··········\n",
            "Mounted at /content/drive\n"
          ],
          "name": "stdout"
        }
      ]
    },
    {
      "cell_type": "code",
      "metadata": {
        "id": "t0GPq9THfElV",
        "colab_type": "code",
        "colab": {}
      },
      "source": [
        "budget_doc = docx2python('/content/drive/My Drive/Colab Notebooks/budget.docx')\n",
        "budget = list(filter(lambda x: len(x) > 1, budget_doc.body))\n",
        "budget = budget[1:9]\n"
      ],
      "execution_count": 0,
      "outputs": []
    },
    {
      "cell_type": "code",
      "metadata": {
        "id": "1Jtx_TsfZl3q",
        "colab_type": "code",
        "colab": {}
      },
      "source": [
        "def clean_parts(raw_budget):\n",
        "    temp = pd.DataFrame(raw_budget[1:])\n",
        "    temp.drop(temp.columns[:-2], axis=1, inplace=True)\n",
        "    temp.dropna(inplace=True)\n",
        "    temp.columns = ['Правки', 'Висновки']\n",
        "    # temp.dropna(subset = ['Правки'], inplace=True)\n",
        "    temp = temp[temp.iloc[:,0].map(lambda d: len(d[0]) > 0)]\n",
        "    print(temp.head())\n",
        "    return temp\n"
      ],
      "execution_count": 0,
      "outputs": []
    },
    {
      "cell_type": "code",
      "metadata": {
        "id": "HikLCE4xdEVZ",
        "colab_type": "code",
        "colab": {}
      },
      "source": [
        "budget_df = list(map(clean_parts, budget))\n",
        "budget_df = pd.concat(budget_df, ignore_index = True)"
      ],
      "execution_count": 0,
      "outputs": []
    },
    {
      "cell_type": "code",
      "metadata": {
        "id": "roFr-VYejsk2",
        "colab_type": "code",
        "colab": {}
      },
      "source": [
        "def edit_split(edit):\n",
        "    if edit[0] and edit[0].startswith('-'):\n",
        "      number, first_author = edit[0].split(maxsplit = 1)\n",
        "      author_list = [first_author]\n",
        "      k = 1\n",
        "      while 'Н.д.' in edit[k]:\n",
        "        author_list.append(edit[k])\n",
        "        k += 1\n",
        "      text = '\\n'.join(edit[len(author_list):])\n",
        "      return number, author_list, text\n",
        "    else: \n",
        "      return None"
      ],
      "execution_count": 0,
      "outputs": []
    },
    {
      "cell_type": "code",
      "metadata": {
        "id": "gycYi49fjBSa",
        "colab_type": "code",
        "colab": {}
      },
      "source": [
        "def get_edit_number(number):\n",
        "  return re.search('\\d+', number).group()"
      ],
      "execution_count": 0,
      "outputs": []
    },
    {
      "cell_type": "code",
      "metadata": {
        "id": "X2hYvCWz2NQa",
        "colab_type": "code",
        "colab": {}
      },
      "source": [
        "# a, b, c = edit_split(budget_df.loc[439]['Правки'])\n",
        "def get_deputies(dep_list):\n",
        "  try:\n",
        "    deputies = []\n",
        "    grp = False\n",
        "    if re.match('\\s*(Комітет|Фракція)', dep_list[0]):\n",
        "      grp = True\n",
        "      deputies.append({'deputy':dep_list[0], 'card':None})\n",
        "      dep_list = dep_list[1:]\n",
        "    for dep in dep_list:\n",
        "      res = re.search(r\"Н.д.([^(]+).*№(\\d+)\", dep)\n",
        "      if res:\n",
        "       deputies.append({'deputy':res.group(1).strip(), 'card':res.group(2)})\n",
        "      else:\n",
        "        res = re.search(r\".([^(]+).*№(\\d+)\", dep)\n",
        "        deputies.append({'deputy':res.group(1).strip(), 'card':res.group(2)})\n",
        "    if len(deputies) > 1:\n",
        "      grp = True\n",
        "    return deputies, grp\n",
        "  except:\n",
        "    print('depError', dep_list)\n",
        "# get_deputies(b)"
      ],
      "execution_count": 0,
      "outputs": []
    },
    {
      "cell_type": "code",
      "metadata": {
        "id": "Pu2N5Hq057FJ",
        "colab_type": "code",
        "colab": {}
      },
      "source": [
        "def get_action(edit):\n",
        "  # try:\n",
        "    keywords = ['(збільшити|передбачити)(.*?)(видатк(и|ах)|субвенці(ю|ї)|дотаці(ю|ї))',\n",
        "                # '((збільши(ти|вши))|передбачити|встановити).*(видатк(и|ів)|субвенці(ю|ї)|дотаці(ю|ї)|обсяг|кошт(и|ів))',\n",
        "                # -зменшивши!!!\n",
        "                # '(встановити) .*збільшивши',\n",
        "                '(включити|відновити|передбачити)(.*?)бюджетну програму',\n",
        "                '(встановити)(.*?)(видатки|субвенці(ю|ї))',\n",
        "                '(збільшити)(.*?)обсяг (асигнувань|видатків)',\n",
        "                '(встановити|(від|по)новити)(.*?)субвенці(ю|ї)',\n",
        "                '(доповнити)(.*?)програм(ою|ами)',\n",
        "                '(збільшити|відновити) фінансування', '(включити) (((в|у) роз)|до)', \n",
        "                '(Передбачити) нову програму',\n",
        "                '(передбачити|виділити)(.*?)[^«]кошти',\n",
        "                '(надати) додатково',\n",
        "                '^(?:видатки|субвенцію)(.*?)(збільшити)',\n",
        "                '^(визначити) обсяг',\n",
        "                'видатки (встановити)',\n",
        "                '(передбачити) збільшення(.*?)видатків',\n",
        "                # '(встановити) .*тобто збільшити', \n",
        "                '(збільшення) видаткової частини', \n",
        "                # '(?:видатк(?:и|ів)|субвенці(?:ю|ї)|дотаці(?:ю|ї)).*(збільшити|передбачити|визначити|встановити)', \n",
        "                # '^встановити видатки'\n",
        "                '(передбачити) \\d+',\n",
        "                '(передбачити) програму',\n",
        "                '^додаткову дотацію(.*?)(збільшити)',\n",
        "                '(забезпечити) (встановлення обсягів видатків|додаткове фінансування)'\n",
        "                ]\n",
        "    action_list = []\n",
        "\n",
        "    for keyword in keywords:\n",
        "      sentence = '[^\\.]*'+ keyword\n",
        "      act = re.compile(sentence, re.IGNORECASE)\n",
        "      res = act.search(edit)\n",
        "      if res:\n",
        "        edit = edit[res.start():]\n",
        "        if re.search('\\d+', edit) and 'зменшивши' not in edit:\n",
        "          return res\n",
        "\n",
        "    return None\n",
        "          # return res.group(1)\n",
        "\n",
        "\n",
        "    # for keyword in keywords:\n",
        "    #     action_list.append(re.compile(keyword, re.IGNORECASE))\n",
        "\n",
        "    # # uah = re.compile('грн|грив(ень|ні|ня)')\n",
        "    # for act in action_list:\n",
        "    #   res = act.search(edit_text)\n",
        "    #   if res:\n",
        "\n",
        "    #     if re.search('\\d+', edit_text) and 'зменшивши' not in edit_text:\n",
        "    #         return res.group(1)\n",
        "    \n",
        "  # except:\n",
        "  #   print('actionError', edit_text)\n"
      ],
      "execution_count": 0,
      "outputs": []
    },
    {
      "cell_type": "code",
      "metadata": {
        "id": "kFhGidBlsR9D",
        "colab_type": "code",
        "outputId": "4504e349-ecfd-4651-9f64-8826cce264ee",
        "colab": {
          "base_uri": "https://localhost:8080/",
          "height": 34
        }
      },
      "source": [
        "s = \"\"\"збільшити видатки на 100 грн для цього зменшити видатки на 200 грн\"\"\"\n",
        "print(get_action(s).group(0))"
      ],
      "execution_count": 0,
      "outputs": [
        {
          "output_type": "stream",
          "text": [
            "збільшити видатки\n"
          ],
          "name": "stdout"
        }
      ]
    },
    {
      "cell_type": "code",
      "metadata": {
        "id": "LPwwk250WJyb",
        "colab_type": "code",
        "colab": {}
      },
      "source": [
        "def find_price(text):\n",
        "  money_str = '(?P<amount>[\\d.,]+)\\s?(?P<order>тис|млн|млрд?|тисяч)?\\.?\\s?(грн|грив(ень|ні|ня))'\n",
        "  s_increase = '(збільш(ити|ивши|ення))(.*?)на (суму )?' + money_str\n",
        "  price = re.search(s_increase, text, re.IGNORECASE)\n",
        "  # price = re.findall(s_increase, text, re.IGNORECASE)\n",
        "  if price:\n",
        "    return format_sum(price.group('amount'), price.group('order'))\n",
        "  else:\n",
        "    return None\n",
        "  # s_prep = '((в|у) обсязі|(в|у) сумі|(в|у) розмірі|до|обсягом)?'\n",
        "  # s_comp = re.compile(s_prep + '\\s'+ money_str)\n",
        "  # return s.search(text).group()\n"
      ],
      "execution_count": 0,
      "outputs": []
    },
    {
      "cell_type": "code",
      "metadata": {
        "id": "x75w7vOgtFeX",
        "colab_type": "code",
        "outputId": "c8c423f4-c733-4bc1-d07f-20b0bafe77a2",
        "colab": {
          "base_uri": "https://localhost:8080/",
          "height": 51
        }
      },
      "source": [
        "print(find_price(s))"
      ],
      "execution_count": 0,
      "outputs": [
        {
          "output_type": "stream",
          "text": [
            "[('збільшити', 'ити', ' видатки ', '', '100', '', 'грн', '')]\n",
            "None\n"
          ],
          "name": "stdout"
        }
      ]
    },
    {
      "cell_type": "code",
      "metadata": {
        "id": "NK58NkRDaK3T",
        "colab_type": "code",
        "colab": {}
      },
      "source": [
        "def get_sum(edit):\n",
        "    money = re.search('([\\d.,]+)([а-я. ]*)(грн|грив(ень|ні|ня))', edit)\n",
        "    if money:\n",
        "      return money\n",
        "      # return money.group(1), money.group(2)\n",
        "    else:\n",
        "      return None"
      ],
      "execution_count": 0,
      "outputs": []
    },
    {
      "cell_type": "code",
      "metadata": {
        "id": "9nO66RWs_By8",
        "colab_type": "code",
        "colab": {}
      },
      "source": [
        "\n",
        "def format_sum(amount, order):\n",
        "  # order = money_match[1].strip(' .')\n",
        "  # try:\n",
        "    amount_str = float(amount.replace(' ','').replace('.', '').replace(',','.'))\n",
        "    switcher = {\n",
        "        'тис': amount_str*10**3,\n",
        "        'млн': amount_str*10**6,\n",
        "        'млрд': amount_str*10**9,\n",
        "        'тисяч': amount_str*10**3,\n",
        "        'млр': amount_str*10**9\n",
        "    }\n",
        "    return switcher.get(order, amount_str)\n",
        "  # except:\n",
        "  #   return 0\n"
      ],
      "execution_count": 0,
      "outputs": []
    },
    {
      "cell_type": "code",
      "metadata": {
        "id": "nEY5QaJRbBVy",
        "colab_type": "code",
        "colab": {}
      },
      "source": [
        "def get_code(edit):\n",
        "    code = re.compile('(за кодом|КПКВК|по коду|код|за кодами) (\\d+)', re.IGNORECASE)\n",
        "    # res = code.findall(edit)\n",
        "    res = code.search(edit)\n",
        "    if res:\n",
        "      # code = res.group(2)\n",
        "      # if code[0]=='0':\n",
        "      #   code = code[1:]\n",
        "      return res.group(2)\n",
        "    #   if len(res)>1:\n",
        "    #   for r in res:\n",
        "    #     code = r[1]\n",
        "    #     if code[0]==0:\n",
        "    #       code = code[1:]\n",
        "   \n",
        "    return None"
      ],
      "execution_count": 0,
      "outputs": []
    },
    {
      "cell_type": "code",
      "metadata": {
        "id": "rOGeSe0LjRWj",
        "colab_type": "code",
        "outputId": "ac545365-4258-4d18-f76d-f57083c20fbe",
        "colab": {
          "base_uri": "https://localhost:8080/",
          "height": 34
        }
      },
      "source": [
        "s = \"033883\"\n",
        "if s[0]=='0':\n",
        "  print(\"!\")"
      ],
      "execution_count": 0,
      "outputs": [
        {
          "output_type": "stream",
          "text": [
            "!\n"
          ],
          "name": "stdout"
        }
      ]
    },
    {
      "cell_type": "code",
      "metadata": {
        "id": "o2p08ZdEb6Gw",
        "colab_type": "code",
        "colab": {}
      },
      "source": [
        "def get_percent(edit):\n",
        "  try:\n",
        "    percent = re.search('[^\\.\\n]*[\\d\\.,]+\\s*(%|відсотк(ів|ка))[^\\.\\n]*', edit)\n",
        "    # percent = re.search(' [\\d\\.\\,]+\\s*(%|відсотків|відсотка) ', edit)\n",
        "    if percent:\n",
        "      return percent.group(0)\n",
        "      # before = edit[:percent.start()].rsplit(maxsplit = 2)\n",
        "      # print(before)\n",
        "      # after = edit[percent.end():].split(maxsplit = 3)\n",
        "      # print(after)\n",
        "      # return ' '.join(before[1:]) + percent.group() + ' '.join(after[:3]) \n",
        "    else:\n",
        "      return None\n",
        "  except:\n",
        "    print('percentError', edit)\n",
        "\n",
        "# get_percent(\"фінансове забезпечення наукової діяльності та законодавчо гарантованих виплат науковим працівникам відповідно до статті 48 Закону України «Про наукову та науково-технічну діяльність» у розмірі не менше 1,7% валового внутрішнього продукту\")"
      ],
      "execution_count": 0,
      "outputs": []
    },
    {
      "cell_type": "code",
      "metadata": {
        "id": "wHkAbgD5FWAK",
        "colab_type": "code",
        "outputId": "6831d68b-eb49-4d20-ce0a-4b0cf48bbc65",
        "colab": {
          "base_uri": "https://localhost:8080/",
          "height": 34
        }
      },
      "source": [
        "print(re.search('[^\\.,]*', \"nkd,f.n\"))"
      ],
      "execution_count": 0,
      "outputs": [
        {
          "output_type": "stream",
          "text": [
            "<_sre.SRE_Match object; span=(0, 3), match='nkd'>\n"
          ],
          "name": "stdout"
        }
      ]
    },
    {
      "cell_type": "code",
      "metadata": {
        "id": "ulDfN3Mlrj9D",
        "colab_type": "code",
        "colab": {}
      },
      "source": [
        "def get_level(edit):\n",
        "  level = re.search('на рівні (.*?)[\\d.,%?]+', edit)\n",
        "  if 'на рівні' in edit:\n",
        "    return 'на рівні'\n",
        "  else:\n",
        "    return None\n",
        "  "
      ],
      "execution_count": 0,
      "outputs": []
    },
    {
      "cell_type": "code",
      "metadata": {
        "id": "jfj8JhLjHAHt",
        "colab_type": "code",
        "colab": {}
      },
      "source": [
        "def get_at_expense(edit):\n",
        "  exp = re.compile('((за рахунок)|джерелом|джерелами|(шляхом.*зменшення)).*\\.', re.DOTALL | re.IGNORECASE)\n",
        "  exp = exp.search(edit)\n",
        "  compensated = False\n",
        "  if exp:\n",
        "    if 'зменшення' in exp.group():\n",
        "      compensated = True \n",
        "    return exp, compensated\n",
        "  else:\n",
        "    return None\n"
      ],
      "execution_count": 0,
      "outputs": []
    },
    {
      "cell_type": "code",
      "metadata": {
        "id": "Yaq9TlMk9--T",
        "colab_type": "code",
        "colab": {}
      },
      "source": [
        "def get_sums(edit):\n",
        "    money_str = '([\\d\\.,]+)\\s?([а-я]{,5})?\\.?\\s?(грн|грив(ень|ні|ня))'\n",
        "    # money_str = '([\\d.,]+)\\s?(тис|млн|млрд?|тисяч)?\\.?\\s?(грн|грив(ень|ні|ня))'\n",
        "    money_sums = re.findall(money_str, edit)\n",
        "    if money_sums and len(money_sums) == 1:\n",
        "      return format_sum(money_sums[0][0], money_sums[0][1])\n",
        "    elif len(money_sums) > 1:\n",
        "      includes_regex = re.compile(money_str + '.*((у|в) тому числі|з яких).*' + money_str, re.DOTALL)\n",
        "      if includes_regex.search(edit):\n",
        "        # print(test_regex.search(edit).group())\n",
        "        return format_sum(money_sums[0][0], money_sums[0][1])\n",
        "      else:\n",
        "        first = format_sum(money_sums[0][0], money_sums[0][1])\n",
        "        rest = sum([ format_sum(s[0], s[1]) for s in money_sums])\n",
        "        if first == rest:\n",
        "          return first\n",
        "        else: \n",
        "          return first + rest\n",
        "      # res = sum(list(map(format_sum, sums)))\n",
        "      # return res\n",
        "    return None"
      ],
      "execution_count": 0,
      "outputs": []
    },
    {
      "cell_type": "code",
      "metadata": {
        "id": "Qn9f_Sg4fweB",
        "colab_type": "code",
        "colab": {}
      },
      "source": [
        "# money_str = '([\\d.,]+)\\s?(тис|млн|млрд?|тисяч)?\\.?\\s?(грн|грив(ень|ні|ня))'\n",
        "# r = re.compile(money_str)\n",
        "# for index, row in budget_df.iterrows():\n",
        "#     edit_parts = edit_split(row['Правки'])\n",
        "#     if edit_parts:\n",
        "#       raw_number, deputies_list, text = edit_parts\n",
        "#       action = get_action(text)\n",
        "#       if action:\n",
        "#         res = r.findall(text)\n",
        "#         for i in res:\n",
        "#           if i[1]=='': print(i)\n",
        "        "
      ],
      "execution_count": 0,
      "outputs": []
    },
    {
      "cell_type": "code",
      "metadata": {
        "id": "LpiTvMWa_yLo",
        "colab_type": "code",
        "outputId": "c5fa2144-4212-4699-baec-0b00f2d23207",
        "colab": {
          "base_uri": "https://localhost:8080/",
          "height": 122
        }
      },
      "source": [
        "res = pd.DataFrame()\n",
        "for index, row in budget_df.iterrows():\n",
        "    edit_parts = edit_split(row['Правки'])\n",
        "    if edit_parts:\n",
        "      raw_number, deputies_list, text = edit_parts\n",
        "      action = get_action(text)\n",
        "      if action:\n",
        "        action_start = action.start()\n",
        "        action_end = action.end()\n",
        "        action = action.group(1)\n",
        "        # text = text[action.start():]\n",
        "        at_exp = get_at_expense(text[action_end:])\n",
        "        end_lookup = len(text)\n",
        "        if at_exp:\n",
        "          end_lookup = action_end + at_exp[0].start()\n",
        "          at_exp = at_exp[0].group()\n",
        "        edit_part = text[action_start : end_lookup]\n",
        "        # print(raw_number)\n",
        "        # print(edit_part)\n",
        "        price = find_price(edit_part)\n",
        "        # print(price)\n",
        "        # code = get_code(edit_part)\n",
        "        \n",
        "       "
      ],
      "execution_count": 0,
      "outputs": [
        {
          "output_type": "stream",
          "text": [
            "[('збільшити', 'ити', ' ', '', '1,2', 'млрд', 'грн', ''), ('збільшити', 'ити', ' ', '', '5', 'млрд', 'грн', '')]\n",
            "[('Збільшити', 'ити', ' за загальним фондом видатки за кодом 0501020 ', '', '1.476.400', 'тис', 'грн', ''), ('збільшення', 'ення', ' фінансування видатків Служби судової охорони, в тому числі: видатки споживання - ', '', '1.240.200', 'тис', 'грн', '')]\n",
            "[('збільшити', 'ити', ': освітню субвенцію ', '', '6.100', 'тис', 'грн', ''), ('збільшити', 'ити', ' базову дотацію ', '', '110.500', 'тис', 'грн', '')]\n",
            "[('Збільшити', 'ити', ' освітню субвенцію ', '', '680.973,8', 'тис', 'грн', ''), ('Збільшити', 'ити', ' видатки за кодом 2211230 ', '', '200', 'млн', 'грн', '')]\n",
            "[('збільшити', 'ити', ' видатки розвитку ', '', '500', 'млн', 'грн', ''), ('збільшити', 'ити', ' видатки розвитку ', '', '5,5', 'млрд', 'грн', '')]\n"
          ],
          "name": "stdout"
        }
      ]
    },
    {
      "cell_type": "code",
      "metadata": {
        "id": "GyrLpIt9Hd99",
        "colab_type": "code",
        "outputId": "c2f32794-e0ff-4c4b-ae26-23a731e57664",
        "colab": {
          "base_uri": "https://localhost:8080/",
          "height": 34
        }
      },
      "source": [
        "edits = pd.DataFrame(columns = ['Номер правки', 'Що зробити', 'Депутат', \n",
        "                                'Реєстраційна картка №', 'Правка', 'На рівні',\n",
        "                                'Відсоток від', 'Ціна правки', 'Сума в бюджеті',\n",
        "                                'Хотєлка', 'Код правки', 'Категорія', 'За рахунок',\n",
        "                                'Видалити/коментар', 'Статус', 'Повний тескт']) \n",
        "group_edits = edits.copy()\n",
        "comp_edits = edits.copy()\n",
        "for index, row in budget_df.iterrows():\n",
        "  try:\n",
        "    edit_parts = edit_split(row['Правки'])\n",
        "    if edit_parts:\n",
        "      raw_number, deputies_list, text = edit_parts\n",
        "      action =  get_action(text)\n",
        "      if action:\n",
        "        # whole_text = text\n",
        "        action_start = action.start()\n",
        "        action_end = action.end()\n",
        "        action = action.group(1)\n",
        "        # text = text[action.start():]\n",
        "        at_exp = get_at_expense(text[action_end:])\n",
        "        compensated = False\n",
        "        end_lookup = len(text)\n",
        "        if at_exp:\n",
        "          end_lookup = action_end + at_exp[0].start()\n",
        "          # edit_part = text[action_start:action_end + exp_start]\n",
        "          compensated = at_exp[1]\n",
        "          at_exp = at_exp[0].group()\n",
        "        edit_part = text[action_start : end_lookup]\n",
        "        percent = get_percent(edit_part)\n",
        "        level = get_level(edit_part)\n",
        "        price = find_price(edit_part)\n",
        "        if price:\n",
        "          money = price\n",
        "        else:\n",
        "          money = get_sums(edit_part)\n",
        "        if money or percent or level:\n",
        "          number = get_edit_number(raw_number)\n",
        "          deputies, group = get_deputies(deputies_list)\n",
        "          code = get_code(edit_part)\n",
        "          for deputy in deputies:\n",
        "            edit_dict = {'Номер правки':number, 'Що зробити':action, 'Правка':text,\n",
        "                    'Депутат':deputy['deputy'], 'Реєстраційна картка №':deputy['card'],\n",
        "                    'Хотєлка':money, 'Код правки':code, 'Відсоток від':percent,\n",
        "                    'Ціна правки': price,\n",
        "                    'На рівні':level, 'За рахунок':at_exp, \n",
        "                    'Статус':row['Висновки'][0], 'Повний тескт':'\\n'.join(row['Правки'])}\n",
        "          # edit_dict = {'number':number, 'action':action, \n",
        "          #              'deputy':deputy['deputy'], 'card':deputy['card'],\n",
        "          #               'sum':money, 'code':code,\n",
        "          #              'percent':percent, 'level':level, 'exp':exp, \n",
        "          #              'status':row['Висновки'][0], 'text':row['Правки']}\n",
        "          # edit_dict = {'Номер правки':number, 'Що зробити':action, \n",
        "          #             'Депутат':deputy['deputy'], 'Реєстраційна картка №':deputy['card'],\n",
        "          #             'Хотєлка':money, 'Код правки':code,\n",
        "          #             'Відсоток від':percent, 'На рівні':level, 'За рахунок':exp, \n",
        "          #             'Статус':row['Висновки'][0], 'Повний тескт':row['Правки']}\n",
        "        \n",
        "          # edits = edits.append(edit_dict, ignore_index=True)\n",
        "            if compensated:\n",
        "              comp_edits = comp_edits.append(edit_dict, ignore_index=True)\n",
        "            elif group:\n",
        "              group_edits = group_edits.append(edit_dict, ignore_index=True)\n",
        "            else:\n",
        "              edits = edits.append(edit_dict, ignore_index=True)\n",
        "  except:\n",
        "    print(raw_number, text)\n",
        "print(len(edits), len(group_edits), len(comp_edits))"
      ],
      "execution_count": 65,
      "outputs": [
        {
          "output_type": "stream",
          "text": [
            "602 4444 630\n"
          ],
          "name": "stdout"
        }
      ]
    },
    {
      "cell_type": "code",
      "metadata": {
        "id": "ICP-kzddAeOf",
        "colab_type": "code",
        "colab": {}
      },
      "source": [
        "with pd.ExcelWriter('/content/drive/My Drive/budget_test.xlsx') as writer: \n",
        "  edits.to_excel(writer, sheet_name='Хотєлки', index = False)\n",
        "  group_edits.to_excel(writer, sheet_name='Групові', index = False)\n",
        "  comp_edits.to_excel(writer, sheet_name='Компенсовані', index = False)\n",
        "# edits.to_excel('/content/drive/My Drive/budget_test.xlsx', index = False)"
      ],
      "execution_count": 0,
      "outputs": []
    },
    {
      "cell_type": "markdown",
      "metadata": {
        "id": "8Kliz-beL1_8",
        "colab_type": "text"
      },
      "source": [
        "\n",
        "-1423- збільшення для Волинської області обсягів освітньої субвенції на 1,6 млрд грн, медичної субвенції на 24.076,2 тис.грн. \n",
        "-1429- Районний бюджет Криворізького району (код 04305200000) внести такі зміни:\n",
        "Освітня субвенція - цифри «86441,8» замінити на «103730,16»;\n",
        "Медична субвенція - цифри «8109,6» замінити на «9731,52». \n",
        "\n",
        "субвенцію визначити у розмірі 37.868,1 тис. грн, збільшивши відповідно на 16.401 тис. грн; \n",
        "\n",
        "«Субвенція ...\n",
        " «Освітня субвенція з державного бюджету місцевим бюджетам» у підсумковому рядку суму 77.533.320,8 тис.грн замінити на суму 105.533.321 тис. грн.\n",
        "\n",
        "за кодом видатки встановити\n",
        " \n",
        "Внести зміни до загальної суми субвенції спеціального фонду на фінансове забезпечення будівництва, реконструкції, ремонту і \n",
        "\n",
        "Внести зміни до\n",
        "\n",
        "у обсязі | в сумі | в розмірі\n",
        "\n",
        "Установити, що у 2020 році кошти Державного фонду регіонального розвитку (КПКВ 2761070) у сумі 500.000 тис. гривень спрямовуються \n",
        "\n",
        "кошти Державного фонду регіонального розвитку (КПКВ 2761070) у сумі 500.000 тис. гривень спрямовуються \n",
        "\n",
        "передбачається сума у розмірі 960.000 тис. гривень,\n",
        "збільшити обсяг асигнувань\n",
        "\n",
        "Впровадження програми реформування та розвитку енергетичного сектору (Код 2401630) збільшити з 25.721 тис. грн. до 55.721 тис. грн. (за рахунок коштів, що надходять від акцизу за електроенергію).\n",
        "в тому числі - 47\n",
        "у тому числі - 75\n"
      ]
    }
  ]
}